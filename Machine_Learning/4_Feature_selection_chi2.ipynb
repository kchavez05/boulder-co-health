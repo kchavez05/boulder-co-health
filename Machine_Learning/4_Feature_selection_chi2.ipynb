{
 "cells": [
  {
   "cell_type": "markdown",
   "id": "bf7d352d",
   "metadata": {},
   "source": [
    "# Feature Selection for High/Low Google Ratings from Health Score using violation categories"
   ]
  },
  {
   "cell_type": "markdown",
   "id": "6aa21b98",
   "metadata": {},
   "source": [
    "The Chi-Square test is used in feature selection to test the relationship between features and the predicted target which helps determine the best features to build the machine learning model. For machine learning, we want features that relate strongly to the target prediciton. Small Chi-Square values indicate the feature and target are indepedent from each other. High Chi-Square values indicate that the feature and target are dependent and therefore those features are good candidates for model training. \n",
    "\n",
    "In this activity, two different datasets were used for feature selection: violation categories (did a facility ever get a particular type of violation) and violation counts (how often did a facility receive a particular violation). \n",
    "\n",
    "Results: Violation Categories show the type of facility more closely dependent (higher chi-square values) to the target. The highest facilities categories were Restaurant with >200 seats and small facilities - Limited Food Service, Convenience. Examples of Restaurants with >200 seats are corporate facilities such as Red Robin and Texas Roadhouse as well as local favorites The Roost and Beau Jo's. Example of Limited Food Service, Convenience range from local coffee shops to Starbucks.\n",
    "\n",
    "Violation Counts revealed the highest dependency on Water/Sewage and Toilets/Handwashing. Facility type definitely influenced these results. These results correlate well with the restaurant-industry addage, for the best health inspection scores, Start in the Restroom!\n",
    "\n",
    "The top 7 features were used to compare Machine Learning Models."
   ]
  },
  {
   "cell_type": "code",
   "execution_count": 9,
   "id": "0b18eb70",
   "metadata": {
    "scrolled": true
   },
   "outputs": [
    {
     "name": "stdout",
     "output_type": "stream",
     "text": [
      "Feature 0: 1.551916\n",
      "Feature 1: 0.015650\n",
      "Feature 2: 0.190643\n",
      "Feature 3: 1.352945\n",
      "Feature 4: 0.183811\n",
      "Feature 5: 0.049675\n",
      "Feature 6: 1.540904\n",
      "Feature 7: 2.951635\n",
      "Feature 8: 0.430799\n",
      "Feature 9: 0.194362\n",
      "Feature 10: 0.051947\n",
      "Feature 11: 1.231200\n",
      "Feature 12: nan\n",
      "Feature 13: nan\n",
      "Feature 14: nan\n",
      "Feature 15: 3.833296\n",
      "Feature 16: 0.194781\n",
      "Feature 17: 1.149163\n",
      "Feature 18: 0.070691\n",
      "Feature 19: 0.117681\n",
      "Feature 20: 6.002714\n",
      "Feature 21: 0.955289\n",
      "Feature 22: 1.589830\n",
      "Feature 23: 0.097353\n",
      "Feature 24: 0.678901\n",
      "Feature 25: 0.194781\n",
      "Feature 26: 0.716628\n",
      "Feature 27: 0.001883\n"
     ]
    },
    {
     "name": "stderr",
     "output_type": "stream",
     "text": [
      "C:\\Users\\scheir3\\Anaconda3\\envs\\mlenv\\lib\\site-packages\\sklearn\\utils\\validation.py:63: FutureWarning: Arrays of bytes/strings is being converted to decimal numbers if dtype='numeric'. This behavior is deprecated in 0.24 and will be removed in 1.1 (renaming of 0.26). Please convert your data to numeric values explicitly instead.\n",
      "  return f(*args, **kwargs)\n"
     ]
    },
    {
     "data": {
      "image/png": "[encoded data removed]",
      "text/plain": [
       "<Figure size 432x288 with 1 Axes>"
      ]
     },
     "metadata": {},
     "output_type": "display_data"
    }
   ],
   "source": [
    "# Feature selection for High/Low Google ratings from Health Score using violation categories.\n",
    "from pandas import read_csv\n",
    "from sklearn.model_selection import train_test_split\n",
    "from sklearn.feature_selection import SelectKBest\n",
    "from sklearn.feature_selection import chi2\n",
    "from matplotlib import pyplot\n",
    " \n",
    "# load the dataset\n",
    "def load_dataset(filename):\n",
    "\t# load the dataset as a pandas DataFrame\n",
    "\tdata = read_csv(filename, header=None)\n",
    "\t# retrieve numpy array\n",
    "\tdataset = data.values\n",
    "\t# split into input (X) and output (y) variables\n",
    "\tX = dataset[:, :-1]\n",
    "\ty = dataset[:,-1]\n",
    "\t# format all fields as string\n",
    "\tX = X.astype(str)\n",
    "\treturn X, y\n",
    " \n",
    "# feature selection\n",
    "def select_features(X_train, y_train, X_test):\n",
    "\tfs = SelectKBest(score_func=chi2, k='all')\n",
    "\tfs.fit(X_train, y_train)\n",
    "\tX_train_fs = fs.transform(X_train)\n",
    "\tX_test_fs = fs.transform(X_test)\n",
    "\treturn X_train_fs, X_test_fs, fs\n",
    " \n",
    "# load the dataset\n",
    "X, y = load_dataset('feature_vio_cat.csv')\n",
    "# split into train and test sets\n",
    "X_train, X_test, y_train, y_test = train_test_split(X, y, test_size=0.33, random_state=1)\n",
    "\n",
    "# feature selection\n",
    "X_train_fs, X_test_fs, fs = select_features(X_train, y_train, X_test)\n",
    "\n",
    "# what are scores for the features\n",
    "for i in range(len(fs.scores_)):\n",
    "\tprint('Feature %d: %f' % (i, fs.scores_[i]))\n",
    "# plot the scores\n",
    "c=['#f9d5e5', '#eeac99', '#e06377', '#c83349', '#5b9aa0', '#d6d4e0', '#b8a9c9', '#622569', \n",
    "   '#f9d5e5', '#eeac99', '#e06377', '#c83349', '#5b9aa0', '#d6d4e0', '#b8a9c9', '#622569', \n",
    "   '#f9d5e5', '#eeac99', '#e06377', '#c83349', '#5b9aa0', '#d6d4e0', '#b8a9c9', '#622569',\n",
    "   '#f9d5e5', '#eeac99', '#e06377']\n",
    "pyplot.bar([i for i in range(len(fs.scores_))], fs.scores_, color=c)\n",
    "pyplot.show()"
   ]
  },
  {
   "cell_type": "markdown",
   "id": "23e5907d",
   "metadata": {},
   "source": [
    "# Feature Select for High/Low Google Ratings using Health Scores and violation counts "
   ]
  },
  {
   "cell_type": "code",
   "execution_count": 10,
   "id": "cbf67189",
   "metadata": {},
   "outputs": [
    {
     "name": "stderr",
     "output_type": "stream",
     "text": [
      "C:\\Users\\scheir3\\Anaconda3\\envs\\mlenv\\lib\\site-packages\\sklearn\\utils\\validation.py:63: FutureWarning: Arrays of bytes/strings is being converted to decimal numbers if dtype='numeric'. This behavior is deprecated in 0.24 and will be removed in 1.1 (renaming of 0.26). Please convert your data to numeric values explicitly instead.\n",
      "  return f(*args, **kwargs)\n"
     ]
    },
    {
     "name": "stdout",
     "output_type": "stream",
     "text": [
      "Feature 0: 0.555805\n",
      "Feature 1: 0.064826\n",
      "Feature 2: 1.680677\n",
      "Feature 3: 8.662600\n",
      "Feature 4: 3.719521\n",
      "Feature 5: 0.060941\n",
      "Feature 6: 1.420539\n",
      "Feature 7: 1.215725\n",
      "Feature 8: 1.671527\n",
      "Feature 9: 0.587391\n",
      "Feature 10: 0.007717\n",
      "Feature 11: 1.532882\n",
      "Feature 12: nan\n",
      "Feature 13: nan\n",
      "Feature 14: nan\n",
      "Feature 15: 3.833296\n",
      "Feature 16: 0.194781\n",
      "Feature 17: 1.149163\n",
      "Feature 18: 0.070691\n",
      "Feature 19: 0.117681\n",
      "Feature 20: 6.002714\n",
      "Feature 21: 0.955289\n",
      "Feature 22: 1.589830\n",
      "Feature 23: 0.097353\n",
      "Feature 24: 0.678901\n",
      "Feature 25: 0.194781\n",
      "Feature 26: 0.716628\n",
      "Feature 27: 0.001883\n"
     ]
    },
    {
     "data": {
      "image/png": "[encoded data removed]",
      "text/plain": [
       "<Figure size 432x288 with 1 Axes>"
      ]
     },
     "metadata": {},
     "output_type": "display_data"
    }
   ],
   "source": [
    "# Feature selection for High/Low Google rating from Health Score using violation COUNTS and facility type/category\n",
    "from pandas import read_csv\n",
    "from sklearn.model_selection import train_test_split\n",
    "from sklearn.feature_selection import SelectKBest\n",
    "from sklearn.feature_selection import chi2\n",
    "from matplotlib import pyplot\n",
    " \n",
    "# load the dataset\n",
    "def load_dataset(filename):\n",
    "\t# load the dataset as a pandas DataFrame\n",
    "\tdata = read_csv(filename, header=None)\n",
    "\t# retrieve numpy array\n",
    "\tdataset = data.values\n",
    "\t# split into input (X) and output (y) variables\n",
    "\tX = dataset[:, :-1]\n",
    "\ty = dataset[:,-1]\n",
    "\t# format all fields as string\n",
    "\tX = X.astype(str)\n",
    "\treturn X, y\n",
    " \n",
    "# feature selection\n",
    "def select_features(X_train, y_train, X_test):\n",
    "\tfs = SelectKBest(score_func=chi2, k='all')\n",
    "\tfs.fit(X_train, y_train)\n",
    "\tX_train_fs = fs.transform(X_train)\n",
    "\tX_test_fs = fs.transform(X_test)\n",
    "\treturn X_train_fs, X_test_fs, fs\n",
    " \n",
    "# load the dataset\n",
    "X, y = load_dataset('features_counts.csv')\n",
    "# split into train and test sets\n",
    "X_train, X_test, y_train, y_test = train_test_split(X, y, test_size=0.33, random_state=1)\n",
    "\n",
    "# feature selection\n",
    "X_train_fs, X_test_fs, fs = select_features(X_train, y_train, X_test)\n",
    "\n",
    "# what are scores for the features\n",
    "for i in range(len(fs.scores_)):\n",
    "\tprint('Feature %d: %f' % (i, fs.scores_[i]))\n",
    "# plot the scores\n",
    "c=['#f9d5e5', '#eeac99', '#e06377', '#c83349', '#5b9aa0', '#d6d4e0', '#b8a9c9', '#622569', \n",
    "   '#f9d5e5', '#eeac99', '#e06377', '#c83349', '#5b9aa0', '#d6d4e0', '#b8a9c9', '#622569', \n",
    "   '#f9d5e5', '#eeac99', '#e06377', '#c83349', '#5b9aa0', '#d6d4e0', '#b8a9c9', '#622569',\n",
    "   '#f9d5e5', '#eeac99', '#e06377']\n",
    "pyplot.bar([i for i in range(len(fs.scores_))], fs.scores_, color=c)\n",
    "pyplot.show()"
   ]
  },
  {
   "cell_type": "code",
   "execution_count": null,
   "id": "97350364",
   "metadata": {},
   "outputs": [],
   "source": []
  }
 ],
 "metadata": {
  "kernelspec": {
   "display_name": "mlenv",
   "language": "python",
   "name": "mlenv"
  },
  "language_info": {
   "codemirror_mode": {
    "name": "ipython",
    "version": 3
   },
   "file_extension": ".py",
   "mimetype": "text/x-python",
   "name": "python",
   "nbconvert_exporter": "python",
   "pygments_lexer": "ipython3",
   "version": "3.9.7"
  }
 },
 "nbformat": 4,
 "nbformat_minor": 5
}
